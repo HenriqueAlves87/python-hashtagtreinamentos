{
 "cells": [
  {
   "cell_type": "code",
   "execution_count": 4,
   "id": "2820d7cb",
   "metadata": {},
   "outputs": [
    {
     "name": "stdout",
     "output_type": "stream",
     "text": [
      "5 <class 'int'>\n",
      "19.9 <class 'float'>\n",
      "Amparo <class 'str'>\n"
     ]
    }
   ],
   "source": [
    "x = 5\n",
    "preço = 19.90\n",
    "cidade = \"Amparo\"\n",
    "\n",
    "print (x, type(x))\n",
    "print (preço, type(preço))\n",
    "print (cidade, type(cidade))"
   ]
  },
  {
   "cell_type": "code",
   "execution_count": 5,
   "id": "ecb9fa97",
   "metadata": {},
   "outputs": [
    {
     "name": "stdout",
     "output_type": "stream",
     "text": [
      "52\n",
      "48\n",
      "100\n",
      "25.0\n"
     ]
    }
   ],
   "source": [
    "x = 50\n",
    "y = 2\n",
    "\n",
    "print (x + y)\n",
    "print (x - y)\n",
    "print (x * y)\n",
    "print (x / y)"
   ]
  },
  {
   "cell_type": "code",
   "execution_count": 6,
   "id": "b1023301",
   "metadata": {},
   "outputs": [
    {
     "name": "stdout",
     "output_type": "stream",
     "text": [
      "2500\n",
      "25\n",
      "0\n"
     ]
    }
   ],
   "source": [
    "#Exponenciação\n",
    "print (x ** y)\n",
    "\n",
    "#Divisão inteira (ignora a parte decimal da divisão)\n",
    "print (x // y)\n",
    "\n",
    "#Resto da divisão\n",
    "print (x % y)"
   ]
  },
  {
   "cell_type": "code",
   "execution_count": 9,
   "id": "d40c28de",
   "metadata": {},
   "outputs": [
    {
     "name": "stdout",
     "output_type": "stream",
     "text": [
      "False\n",
      "True\n",
      "False\n"
     ]
    }
   ],
   "source": [
    "tem_cafe = True\n",
    "tem_pao = False\n",
    "\n",
    "print (not tem_cafe)\n",
    "print (tem_cafe or tem_pao)\n",
    "print (tem_cafe and tem_pao)"
   ]
  },
  {
   "cell_type": "code",
   "execution_count": 10,
   "id": "99f89e4e",
   "metadata": {},
   "outputs": [
    {
     "name": "stdout",
     "output_type": "stream",
     "text": [
      "True\n",
      "False\n",
      "False\n",
      "True\n",
      "False\n",
      "True\n"
     ]
    }
   ],
   "source": [
    "dolar = 5.3\n",
    "real = 1\n",
    "\n",
    "print (dolar > real) #verifica se é maior\n",
    "print (dolar < real) #verifica se é menor\n",
    "print (dolar == real) #verifica se é igual\n",
    "print (dolar >= real) #verifica se é maior ou igual\n",
    "print (dolar <= real) #verifica se é menor ou igual\n",
    "print (dolar != real) #verifica se é diferente"
   ]
  }
 ],
 "metadata": {
  "kernelspec": {
   "display_name": "Python 3",
   "language": "python",
   "name": "python3"
  },
  "language_info": {
   "codemirror_mode": {
    "name": "ipython",
    "version": 3
   },
   "file_extension": ".py",
   "mimetype": "text/x-python",
   "name": "python",
   "nbconvert_exporter": "python",
   "pygments_lexer": "ipython3",
   "version": "3.8.8"
  }
 },
 "nbformat": 4,
 "nbformat_minor": 5
}
