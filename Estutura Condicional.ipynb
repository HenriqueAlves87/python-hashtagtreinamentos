{
 "cells": [
  {
   "cell_type": "code",
   "execution_count": 3,
   "id": "8c25af20",
   "metadata": {},
   "outputs": [
    {
     "name": "stdout",
     "output_type": "stream",
     "text": [
      "Pague a corrida\n"
     ]
    }
   ],
   "source": [
    "valor_passagem = 4.30\n",
    "valor_corrida = input('Qual o valor da corrida?')\n",
    "\n",
    "#Valor da corrida menor ou igual até 5 * valor_passagem\n",
    "if float(valor_corrida) <= valor_passagem * 5:\n",
    "    print('Pague a corrida')\n",
    "if float(valor_corrida) > valor_passagem * 5:\n",
    "    print('Pegue o ônibus.')"
   ]
  },
  {
   "cell_type": "code",
   "execution_count": 7,
   "id": "f3de18aa",
   "metadata": {},
   "outputs": [
    {
     "name": "stdout",
     "output_type": "stream",
     "text": [
      "Pague a corrida\n"
     ]
    }
   ],
   "source": [
    "valor_passagem = 4.30\n",
    "valor_corrida = input('Qual o valor da corrida?')\n",
    "\n",
    "#Valor da corrida menor ou igual até 5 * valor_passagem\n",
    "if float(valor_corrida) <= valor_passagem * 5:\n",
    "    print('Pague a corrida')\n",
    "else:\n",
    "    print('Pegue o ônibus.')"
   ]
  },
  {
   "cell_type": "code",
   "execution_count": 26,
   "id": "1f148a8e",
   "metadata": {},
   "outputs": [
    {
     "name": "stdout",
     "output_type": "stream",
     "text": [
      "Pague a corrida\n"
     ]
    }
   ],
   "source": [
    "valor_passagem = 4.30\n",
    "valor_corrida = input('Qual o valor da corrida?')\n",
    "\n",
    "#Valor da corrida menor ou igual até 5 * valor_passagem\n",
    "if float(valor_corrida) <= valor_passagem * 5:\n",
    "    print('Pague a corrida')\n",
    "else:\n",
    "    if float(valor_corrida) <= valor_passagem * 6:\n",
    "        print('Aguarde um momento o valor pode baixar.')\n",
    "    else:\n",
    "        print('Pegue o ônibus.')"
   ]
  },
  {
   "cell_type": "code",
   "execution_count": 31,
   "id": "3af95b02",
   "metadata": {},
   "outputs": [
    {
     "name": "stdout",
     "output_type": "stream",
     "text": [
      "Pegue o ônibus.\n"
     ]
    }
   ],
   "source": [
    "valor_passagem = 4.30\n",
    "valor_corrida = input('Qual o valor da corrida?')\n",
    "\n",
    "#Valor da corrida menor ou igual até 5 * valor_passagem\n",
    "if float(valor_corrida) <= valor_passagem * 5:\n",
    "    print('Pague a corrida')\n",
    "elif float(valor_corrida) <= valor_passagem * 6:\n",
    "    print('Aguarde um momento o valor pode baixar.')\n",
    "else:\n",
    "    print('Pegue o ônibus.')"
   ]
  }
 ],
 "metadata": {
  "kernelspec": {
   "display_name": "Python 3",
   "language": "python",
   "name": "python3"
  },
  "language_info": {
   "codemirror_mode": {
    "name": "ipython",
    "version": 3
   },
   "file_extension": ".py",
   "mimetype": "text/x-python",
   "name": "python",
   "nbconvert_exporter": "python",
   "pygments_lexer": "ipython3",
   "version": "3.8.8"
  }
 },
 "nbformat": 4,
 "nbformat_minor": 5
}
