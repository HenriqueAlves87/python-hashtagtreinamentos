{
 "cells": [
  {
   "cell_type": "code",
   "execution_count": 3,
   "id": "8c25af20",
   "metadata": {},
   "outputs": [
    {
     "name": "stdout",
     "output_type": "stream",
     "text": [
      "25 <class 'str'>\n"
     ]
    }
   ],
   "source": [
    "idade = input ('Informe sua idade: ')\n",
    "print (idade, type(idade))"
   ]
  },
  {
   "cell_type": "code",
   "execution_count": 4,
   "id": "64be5b7c",
   "metadata": {},
   "outputs": [
    {
     "name": "stdout",
     "output_type": "stream",
     "text": [
      "25 <class 'int'>\n"
     ]
    }
   ],
   "source": [
    "idade = int(idade)\n",
    "print (idade, type(idade))"
   ]
  },
  {
   "cell_type": "code",
   "execution_count": 5,
   "id": "ba04e992",
   "metadata": {},
   "outputs": [
    {
     "name": "stdout",
     "output_type": "stream",
     "text": [
      "123.25\n",
      "123.25\n",
      "False\n",
      "True\n",
      "False\n",
      "True\n"
     ]
    }
   ],
   "source": [
    "print(float('123.25')) #converter para float (valor flutuante)\n",
    "print(str(123.25)) #converter para string\n",
    "print(bool('')) #converter para boolean uma string vazia retorna falso\n",
    "print(bool('abc')) #Se a string tiver qualquer valor retonr verdadeiro\n",
    "print(bool(0)) #No caso de números o 0 sempre retornará falso\n",
    "print(bool(-2)) #Qualquer valor diferente de 0 retornará verdadeiro"
   ]
  },
  {
   "cell_type": "code",
   "execution_count": 1,
   "id": "8adb6af2",
   "metadata": {},
   "outputs": [
    {
     "name": "stdout",
     "output_type": "stream",
     "text": [
      "O montante economizado que você pode economizar ao fim do ano é de:  36000.0\n"
     ]
    }
   ],
   "source": [
    "salario_mensal = input('Digite seu salário mensal: ')\n",
    "salario_mensal = float(salario_mensal)\n",
    "\n",
    "gasto_mensal = input('Digite seu gasto mensal em média: ')\n",
    "gasto_mensal = float(gasto_mensal)\n",
    "\n",
    "salario_total = salario_mensal * 12\n",
    "gasto_total = gasto_mensal * 12\n",
    "montante_economizado = salario_total - gasto_total\n",
    "print('O montante economizado que você pode economizar ao fim do ano é de: ', montante_economizado)"
   ]
  }
 ],
 "metadata": {
  "kernelspec": {
   "display_name": "Python 3",
   "language": "python",
   "name": "python3"
  },
  "language_info": {
   "codemirror_mode": {
    "name": "ipython",
    "version": 3
   },
   "file_extension": ".py",
   "mimetype": "text/x-python",
   "name": "python",
   "nbconvert_exporter": "python",
   "pygments_lexer": "ipython3",
   "version": "3.8.8"
  }
 },
 "nbformat": 4,
 "nbformat_minor": 5
}
